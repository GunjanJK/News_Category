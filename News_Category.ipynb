{
 "cells": [
  {
   "cell_type": "code",
   "execution_count": 1,
   "metadata": {},
   "outputs": [],
   "source": [
    "# importing usuful library & row-column set up\n",
    "import pandas as pd\n",
    "pd.set_option('display.max_row', 100)\n",
    "pd.set_option('display.max_colwidth', 100)"
   ]
  },
  {
   "cell_type": "code",
   "execution_count": 2,
   "metadata": {},
   "outputs": [],
   "source": [
    "data = pd.read_json(\"News_Category_Dataset.json\", lines=True)"
   ]
  },
  {
   "cell_type": "code",
   "execution_count": 3,
   "metadata": {},
   "outputs": [
    {
     "data": {
      "text/plain": [
       "(124989, 6)"
      ]
     },
     "execution_count": 3,
     "metadata": {},
     "output_type": "execute_result"
    }
   ],
   "source": [
    "data.shape"
   ]
  },
  {
   "cell_type": "code",
   "execution_count": 4,
   "metadata": {},
   "outputs": [
    {
     "data": {
      "text/plain": [
       "authors              0\n",
       "category             0\n",
       "date                 0\n",
       "headline             0\n",
       "link                 0\n",
       "short_description    0\n",
       "dtype: int64"
      ]
     },
     "execution_count": 4,
     "metadata": {},
     "output_type": "execute_result"
    }
   ],
   "source": [
    "data.isnull().sum()"
   ]
  },
  {
   "cell_type": "code",
   "execution_count": 5,
   "metadata": {},
   "outputs": [
    {
     "data": {
      "text/html": [
       "<div>\n",
       "<style scoped>\n",
       "    .dataframe tbody tr th:only-of-type {\n",
       "        vertical-align: middle;\n",
       "    }\n",
       "\n",
       "    .dataframe tbody tr th {\n",
       "        vertical-align: top;\n",
       "    }\n",
       "\n",
       "    .dataframe thead th {\n",
       "        text-align: right;\n",
       "    }\n",
       "</style>\n",
       "<table border=\"1\" class=\"dataframe\">\n",
       "  <thead>\n",
       "    <tr style=\"text-align: right;\">\n",
       "      <th></th>\n",
       "      <th>authors</th>\n",
       "      <th>category</th>\n",
       "      <th>date</th>\n",
       "      <th>headline</th>\n",
       "      <th>link</th>\n",
       "      <th>short_description</th>\n",
       "    </tr>\n",
       "  </thead>\n",
       "  <tbody>\n",
       "    <tr>\n",
       "      <th>0</th>\n",
       "      <td>Melissa Jeltsen</td>\n",
       "      <td>CRIME</td>\n",
       "      <td>2018-05-26</td>\n",
       "      <td>There Were 2 Mass Shootings In Texas Last Week, But Only 1 On TV</td>\n",
       "      <td>https://www.huffingtonpost.com/entry/texas-amanda-painter-mass-shooting_us_5b081ab4e4b0802d69caad89</td>\n",
       "      <td>She left her husband. He killed their children. Just another day in America.</td>\n",
       "    </tr>\n",
       "    <tr>\n",
       "      <th>1</th>\n",
       "      <td>Andy McDonald</td>\n",
       "      <td>ENTERTAINMENT</td>\n",
       "      <td>2018-05-26</td>\n",
       "      <td>Will Smith Joins Diplo And Nicky Jam For The 2018 World Cup's Official Song</td>\n",
       "      <td>https://www.huffingtonpost.com/entry/will-smith-joins-diplo-and-nicky-jam-for-the-official-2018-...</td>\n",
       "      <td>Of course it has a song.</td>\n",
       "    </tr>\n",
       "    <tr>\n",
       "      <th>2</th>\n",
       "      <td>Ron Dicker</td>\n",
       "      <td>ENTERTAINMENT</td>\n",
       "      <td>2018-05-26</td>\n",
       "      <td>Hugh Grant Marries For The First Time At Age 57</td>\n",
       "      <td>https://www.huffingtonpost.com/entry/hugh-grant-marries_us_5b09212ce4b0568a880b9a8c</td>\n",
       "      <td>The actor and his longtime girlfriend Anna Eberstein tied the knot in a civil ceremony.</td>\n",
       "    </tr>\n",
       "    <tr>\n",
       "      <th>3</th>\n",
       "      <td>Ron Dicker</td>\n",
       "      <td>ENTERTAINMENT</td>\n",
       "      <td>2018-05-26</td>\n",
       "      <td>Jim Carrey Blasts 'Castrato' Adam Schiff And Democrats In New Artwork</td>\n",
       "      <td>https://www.huffingtonpost.com/entry/jim-carrey-adam-schiff-democrats_us_5b0950e8e4b0fdb2aa53e675</td>\n",
       "      <td>The actor gives Dems an ass-kicking for not fighting hard enough against Donald Trump.</td>\n",
       "    </tr>\n",
       "    <tr>\n",
       "      <th>4</th>\n",
       "      <td>Ron Dicker</td>\n",
       "      <td>ENTERTAINMENT</td>\n",
       "      <td>2018-05-26</td>\n",
       "      <td>Julianna Margulies Uses Donald Trump Poop Bags To Pick Up After Her Dog</td>\n",
       "      <td>https://www.huffingtonpost.com/entry/julianna-margulies-trump-poop-bag_us_5b093ec2e4b0fdb2aa53df70</td>\n",
       "      <td>The \"Dietland\" actress said using the bags is a \"really cathartic, therapeutic moment.\"</td>\n",
       "    </tr>\n",
       "  </tbody>\n",
       "</table>\n",
       "</div>"
      ],
      "text/plain": [
       "           authors       category       date  \\\n",
       "0  Melissa Jeltsen          CRIME 2018-05-26   \n",
       "1    Andy McDonald  ENTERTAINMENT 2018-05-26   \n",
       "2       Ron Dicker  ENTERTAINMENT 2018-05-26   \n",
       "3       Ron Dicker  ENTERTAINMENT 2018-05-26   \n",
       "4       Ron Dicker  ENTERTAINMENT 2018-05-26   \n",
       "\n",
       "                                                                      headline  \\\n",
       "0             There Were 2 Mass Shootings In Texas Last Week, But Only 1 On TV   \n",
       "1  Will Smith Joins Diplo And Nicky Jam For The 2018 World Cup's Official Song   \n",
       "2                              Hugh Grant Marries For The First Time At Age 57   \n",
       "3        Jim Carrey Blasts 'Castrato' Adam Schiff And Democrats In New Artwork   \n",
       "4      Julianna Margulies Uses Donald Trump Poop Bags To Pick Up After Her Dog   \n",
       "\n",
       "                                                                                                  link  \\\n",
       "0  https://www.huffingtonpost.com/entry/texas-amanda-painter-mass-shooting_us_5b081ab4e4b0802d69caad89   \n",
       "1  https://www.huffingtonpost.com/entry/will-smith-joins-diplo-and-nicky-jam-for-the-official-2018-...   \n",
       "2                  https://www.huffingtonpost.com/entry/hugh-grant-marries_us_5b09212ce4b0568a880b9a8c   \n",
       "3    https://www.huffingtonpost.com/entry/jim-carrey-adam-schiff-democrats_us_5b0950e8e4b0fdb2aa53e675   \n",
       "4   https://www.huffingtonpost.com/entry/julianna-margulies-trump-poop-bag_us_5b093ec2e4b0fdb2aa53df70   \n",
       "\n",
       "                                                                         short_description  \n",
       "0             She left her husband. He killed their children. Just another day in America.  \n",
       "1                                                                 Of course it has a song.  \n",
       "2  The actor and his longtime girlfriend Anna Eberstein tied the knot in a civil ceremony.  \n",
       "3   The actor gives Dems an ass-kicking for not fighting hard enough against Donald Trump.  \n",
       "4  The \"Dietland\" actress said using the bags is a \"really cathartic, therapeutic moment.\"  "
      ]
     },
     "execution_count": 5,
     "metadata": {},
     "output_type": "execute_result"
    }
   ],
   "source": [
    "data.head()"
   ]
  },
  {
   "cell_type": "code",
   "execution_count": 6,
   "metadata": {},
   "outputs": [
    {
     "data": {
      "text/plain": [
       "POLITICS          32739\n",
       "ENTERTAINMENT     14257\n",
       "HEALTHY LIVING     6694\n",
       "QUEER VOICES       4995\n",
       "BUSINESS           4254\n",
       "SPORTS             4167\n",
       "COMEDY             3971\n",
       "PARENTS            3955\n",
       "BLACK VOICES       3858\n",
       "THE WORLDPOST      3664\n",
       "WOMEN              3490\n",
       "CRIME              2893\n",
       "MEDIA              2815\n",
       "WEIRD NEWS         2670\n",
       "GREEN              2622\n",
       "IMPACT             2602\n",
       "WORLDPOST          2579\n",
       "RELIGION           2556\n",
       "STYLE              2254\n",
       "WORLD NEWS         2177\n",
       "TRAVEL             2145\n",
       "TASTE              2096\n",
       "ARTS               1509\n",
       "FIFTY              1401\n",
       "GOOD NEWS          1398\n",
       "SCIENCE            1381\n",
       "ARTS & CULTURE     1339\n",
       "TECH               1231\n",
       "COLLEGE            1144\n",
       "LATINO VOICES      1129\n",
       "EDUCATION          1004\n",
       "Name: category, dtype: int64"
      ]
     },
     "execution_count": 6,
     "metadata": {},
     "output_type": "execute_result"
    }
   ],
   "source": [
    "data.category.value_counts()"
   ]
  },
  {
   "cell_type": "code",
   "execution_count": 7,
   "metadata": {},
   "outputs": [
    {
     "data": {
      "text/plain": [
       "                                                                                                          14151\n",
       "Lee Moran                                                                                                  2423\n",
       "Ron Dicker                                                                                                 1802\n",
       "Ed Mazza                                                                                                   1320\n",
       "Cole Delbyck                                                                                               1140\n",
       "Andy McDonald                                                                                              1065\n",
       "Julia Brucculieri                                                                                          1059\n",
       "Carly Ledbetter                                                                                            1023\n",
       "Curtis M. Wong                                                                                             1005\n",
       "Mary Papenfuss                                                                                              974\n",
       "Bill Bradley                                                                                                965\n",
       "Sam Levine                                                                                                  893\n",
       "David Moye                                                                                                  875\n",
       "Nina Golgowski                                                                                              868\n",
       "Igor Bobic                                                                                                  866\n",
       "Caroline Bologna                                                                                            762\n",
       "Dominique Mosbergen                                                                                         739\n",
       "Jenna Amatulli                                                                                              711\n",
       "James Michael Nichols                                                                                       675\n",
       "Daniel Marans                                                                                               669\n",
       "Marina Fang                                                                                                 648\n",
       "Jamie Feldman                                                                                               642\n",
       "Sara Boboltz                                                                                                619\n",
       "Alanna Vagianos                                                                                             607\n",
       "Matthew Jacobs                                                                                              605\n",
       "Hilary Hanson                                                                                               599\n",
       "Rebecca Shapiro                                                                                             589\n",
       "Antonia Blumberg                                                                                            584\n",
       "Paige Lavender                                                                                              581\n",
       "Ryan Grenoble                                                                                               577\n",
       "Carla Herreria                                                                                              560\n",
       "Elyse Wanshel                                                                                               556\n",
       "Priscilla Frank                                                                                             551\n",
       "Cavan Sieczkowski                                                                                           532\n",
       "Nick Visser                                                                                                 525\n",
       "Kimberly Yam                                                                                                520\n",
       "Amanda Terkel                                                                                               513\n",
       "Willa Frej                                                                                                  500\n",
       "Taylor Pittman                                                                                              490\n",
       "Lily Karlin                                                                                                 463\n",
       "Mollie Reilly                                                                                               462\n",
       "Maxwell Strachan                                                                                            458\n",
       "Suzy Strutner                                                                                               450\n",
       "Carol Kuruvilla                                                                                             439\n",
       "Ariel Edwards-Levy                                                                                          425\n",
       "Lauren Weber                                                                                                422\n",
       "Chris D'Angelo                                                                                              417\n",
       "Stephanie Marcus                                                                                            406\n",
       "Sebastian Murdock                                                                                           401\n",
       "Carolina Moreno                                                                                             399\n",
       "                                                                                                          ...  \n",
       "SETH BORENSTEIN, AP                                                                                           1\n",
       "Jennifer Sinco Kelleher, AP                                                                                   1\n",
       "Lisa Derrick, ContributorArtist, curator, pop and occult culture journalist; hostess Su...                    1\n",
       "Mindy Crary, ContributorMindy Crary is the founder of Creative Money, a resource for s...                     1\n",
       "Jillian Conroy Zakarian, M.Ed., ContributorMA in Edu | Family-Centered Educator | Modern Governess LLC        1\n",
       "Rhema Hokama, ContributorHarvard researcher, teacher, passionate about effective povert...                    1\n",
       "Anna Almendrala and Erin Schumaker                                                                            1\n",
       "Eric Rice, ContributorPhD, Associate Professor at the University of Southern Califor...                       1\n",
       "Linda Randle, Contributor55. Fabulous. Woman. Mother. Grandmother. Women's Ministry Lea...                    1\n",
       "Max Baumbach, ContributorWriter, musician                                                                     1\n",
       "Bishop Stacy Sauls, ContributorChief Operating Officer, The Episcopal Church                                  1\n",
       "Gabe Zichermann, ContributorChair, GSummit; speaker; author, 'Gamification Revolution'                        1\n",
       "Casey Fitzpatrick, ContributorOwner of Troupe429: LGBTQ Bar & Performance Space                               1\n",
       "Robin Reineke and Emily Messing, Contributors                                                                 1\n",
       "Sam Mednick, Refugees Deeply                                                                                  1\n",
       "Robert Julian, ContributorWriter and actor; star, author, 'Postcards From Palm Springs: ...                   1\n",
       "Jack Beermann, ContributorProfessor of Law, Boston University School of Law                                   1\n",
       "Dr. Alan Kadish, ContributorPresident, Touro College & University System                                      1\n",
       "Anna Maria Chavez, ContributorFormer CEO for Girl Scouts USA                                                  1\n",
       "Ahmed Rehab, ContributorWriter and lecturer                                                                   1\n",
       "Michael McLaughlin and Nick Wing                                                                              1\n",
       "BJ Gallagher, ContributorAuthor of 30+ books, including an international best-seller, \"...                    1\n",
       "Belinda Furneaux-Harris, ContributorWriter, Self Love Expert and motivational speaker. Kick-start ...         1\n",
       "Danica Kirka, AP                                                                                              1\n",
       "D.S. Coleman, ContributorLove, dating & relationships expert who did the dating scene, ...                    1\n",
       "Antonia Sohns, ContributorFreelance writer, who focuses on science, community and politics                    1\n",
       "Arshya Vahabzadeh, M.D., ContributorHarvard Trained Subspecialist Psychiatrist. Director & Researc...         1\n",
       "Tamika Felder, ContributorCervivor, Cancer Advocate, Speaker, Purposeful Living Expert, ...                   1\n",
       "Sasha Bronner and Matthew Jacobs                                                                              1\n",
       "Jo-Marie Burt, ContributorEducator, writer and human rights activist. Teaches at George ...                   1\n",
       "Stratford Sherman, ContributorLeadership advisor and coach                                                    1\n",
       "Michael O. Schroeder, U.S. News & World Report                                                                1\n",
       "Sam Edwards and Joseph Nasr, Reuters                                                                          1\n",
       "CALmatters, ContributorCALmatters                                                                             1\n",
       "Dereck Joubert, ContributorSeven-time Emmy Award-winning filmmaker, National Geographic E...                  1\n",
       "Ben Lee, ContributorFounder, Neon Roots. Serial Entrepreneur. Digital Product Expert.                         1\n",
       "Aaron Todd, ContributorAaron is a writer and journalist living in Oklahoma City.                              1\n",
       "Brian Klems, ContributorAuthor                                                                                1\n",
       "Randi Weingarten and Joe Hansen, Contributors                                                                 1\n",
       "Melissa Sandgren, ContributorFeminist, Policy Nerd                                                            1\n",
       "Matty Ice, ContributorBlogging the GOP's demise on my $700 iPhone while standing in ...                       1\n",
       "Peggy Oliveira, ContributorSurvivor, Therapist, Coach, Speaker, Blogger spreading the mes...                  1\n",
       "Eileen Connor, ContributorPublic interest lawyer                                                              1\n",
       "Jacob Jean, Outsports                                                                                         1\n",
       "Rachel Cohen, On assignment for HuffPost                                                                      1\n",
       "Herbie Ziskend, ContributorVice President, SKDKnickerbocker; previously the Obama White H...                  1\n",
       "John W. Boyd Jr., ContributorPresident, Black Farmers Association                                             1\n",
       "Gov. Howard Dean, ContributorFormer Governor of Vermont and Chairman of the Democratic Nati...                1\n",
       "Paul Waugh, HuffPostUK                                                                                        1\n",
       "William Schaffner, M.D., ContributorNational Foundation for Infectious Diseases and professor Vand...         1\n",
       "Name: authors, Length: 19250, dtype: int64"
      ]
     },
     "execution_count": 7,
     "metadata": {},
     "output_type": "execute_result"
    }
   ],
   "source": [
    "data.authors.value_counts()"
   ]
  },
  {
   "cell_type": "code",
   "execution_count": 8,
   "metadata": {},
   "outputs": [],
   "source": [
    "data['report'] = data[['headline', 'short_description']].apply(lambda x: ' '.join(x), axis=1)"
   ]
  },
  {
   "cell_type": "code",
   "execution_count": 9,
   "metadata": {},
   "outputs": [],
   "source": [
    "data.drop(['authors','date','link','headline', 'short_description'], axis=1, inplace=True)"
   ]
  },
  {
   "cell_type": "code",
   "execution_count": 10,
   "metadata": {},
   "outputs": [
    {
     "data": {
      "text/html": [
       "<div>\n",
       "<style scoped>\n",
       "    .dataframe tbody tr th:only-of-type {\n",
       "        vertical-align: middle;\n",
       "    }\n",
       "\n",
       "    .dataframe tbody tr th {\n",
       "        vertical-align: top;\n",
       "    }\n",
       "\n",
       "    .dataframe thead th {\n",
       "        text-align: right;\n",
       "    }\n",
       "</style>\n",
       "<table border=\"1\" class=\"dataframe\">\n",
       "  <thead>\n",
       "    <tr style=\"text-align: right;\">\n",
       "      <th></th>\n",
       "      <th>category</th>\n",
       "      <th>report</th>\n",
       "    </tr>\n",
       "  </thead>\n",
       "  <tbody>\n",
       "    <tr>\n",
       "      <th>0</th>\n",
       "      <td>CRIME</td>\n",
       "      <td>There Were 2 Mass Shootings In Texas Last Week, But Only 1 On TV She left her husband. He killed...</td>\n",
       "    </tr>\n",
       "    <tr>\n",
       "      <th>1</th>\n",
       "      <td>ENTERTAINMENT</td>\n",
       "      <td>Will Smith Joins Diplo And Nicky Jam For The 2018 World Cup's Official Song Of course it has a s...</td>\n",
       "    </tr>\n",
       "    <tr>\n",
       "      <th>2</th>\n",
       "      <td>ENTERTAINMENT</td>\n",
       "      <td>Hugh Grant Marries For The First Time At Age 57 The actor and his longtime girlfriend Anna Ebers...</td>\n",
       "    </tr>\n",
       "    <tr>\n",
       "      <th>3</th>\n",
       "      <td>ENTERTAINMENT</td>\n",
       "      <td>Jim Carrey Blasts 'Castrato' Adam Schiff And Democrats In New Artwork The actor gives Dems an as...</td>\n",
       "    </tr>\n",
       "    <tr>\n",
       "      <th>4</th>\n",
       "      <td>ENTERTAINMENT</td>\n",
       "      <td>Julianna Margulies Uses Donald Trump Poop Bags To Pick Up After Her Dog The \"Dietland\" actress s...</td>\n",
       "    </tr>\n",
       "  </tbody>\n",
       "</table>\n",
       "</div>"
      ],
      "text/plain": [
       "        category  \\\n",
       "0          CRIME   \n",
       "1  ENTERTAINMENT   \n",
       "2  ENTERTAINMENT   \n",
       "3  ENTERTAINMENT   \n",
       "4  ENTERTAINMENT   \n",
       "\n",
       "                                                                                                report  \n",
       "0  There Were 2 Mass Shootings In Texas Last Week, But Only 1 On TV She left her husband. He killed...  \n",
       "1  Will Smith Joins Diplo And Nicky Jam For The 2018 World Cup's Official Song Of course it has a s...  \n",
       "2  Hugh Grant Marries For The First Time At Age 57 The actor and his longtime girlfriend Anna Ebers...  \n",
       "3  Jim Carrey Blasts 'Castrato' Adam Schiff And Democrats In New Artwork The actor gives Dems an as...  \n",
       "4  Julianna Margulies Uses Donald Trump Poop Bags To Pick Up After Her Dog The \"Dietland\" actress s...  "
      ]
     },
     "execution_count": 10,
     "metadata": {},
     "output_type": "execute_result"
    }
   ],
   "source": [
    "data.head()"
   ]
  },
  {
   "cell_type": "markdown",
   "metadata": {},
   "source": [
    "# Remove Punctuation"
   ]
  },
  {
   "cell_type": "code",
   "execution_count": 11,
   "metadata": {},
   "outputs": [],
   "source": [
    "# string library has list of all the punctuation\n",
    "import string"
   ]
  },
  {
   "cell_type": "code",
   "execution_count": 12,
   "metadata": {},
   "outputs": [],
   "source": [
    "def remv_punc(text):\n",
    "    text_no_punc = \"\".join([char for char in text if char not in string.punctuation])\n",
    "    return text_no_punc"
   ]
  },
  {
   "cell_type": "code",
   "execution_count": 13,
   "metadata": {},
   "outputs": [],
   "source": [
    "data['report_no_punc'] = data['report'].apply(lambda x: remv_punc(x))"
   ]
  },
  {
   "cell_type": "code",
   "execution_count": 14,
   "metadata": {},
   "outputs": [
    {
     "data": {
      "text/html": [
       "<div>\n",
       "<style scoped>\n",
       "    .dataframe tbody tr th:only-of-type {\n",
       "        vertical-align: middle;\n",
       "    }\n",
       "\n",
       "    .dataframe tbody tr th {\n",
       "        vertical-align: top;\n",
       "    }\n",
       "\n",
       "    .dataframe thead th {\n",
       "        text-align: right;\n",
       "    }\n",
       "</style>\n",
       "<table border=\"1\" class=\"dataframe\">\n",
       "  <thead>\n",
       "    <tr style=\"text-align: right;\">\n",
       "      <th></th>\n",
       "      <th>category</th>\n",
       "      <th>report</th>\n",
       "      <th>report_no_punc</th>\n",
       "    </tr>\n",
       "  </thead>\n",
       "  <tbody>\n",
       "    <tr>\n",
       "      <th>0</th>\n",
       "      <td>CRIME</td>\n",
       "      <td>There Were 2 Mass Shootings In Texas Last Week, But Only 1 On TV She left her husband. He killed...</td>\n",
       "      <td>There Were 2 Mass Shootings In Texas Last Week But Only 1 On TV She left her husband He killed t...</td>\n",
       "    </tr>\n",
       "    <tr>\n",
       "      <th>1</th>\n",
       "      <td>ENTERTAINMENT</td>\n",
       "      <td>Will Smith Joins Diplo And Nicky Jam For The 2018 World Cup's Official Song Of course it has a s...</td>\n",
       "      <td>Will Smith Joins Diplo And Nicky Jam For The 2018 World Cups Official Song Of course it has a song</td>\n",
       "    </tr>\n",
       "    <tr>\n",
       "      <th>2</th>\n",
       "      <td>ENTERTAINMENT</td>\n",
       "      <td>Hugh Grant Marries For The First Time At Age 57 The actor and his longtime girlfriend Anna Ebers...</td>\n",
       "      <td>Hugh Grant Marries For The First Time At Age 57 The actor and his longtime girlfriend Anna Ebers...</td>\n",
       "    </tr>\n",
       "    <tr>\n",
       "      <th>3</th>\n",
       "      <td>ENTERTAINMENT</td>\n",
       "      <td>Jim Carrey Blasts 'Castrato' Adam Schiff And Democrats In New Artwork The actor gives Dems an as...</td>\n",
       "      <td>Jim Carrey Blasts Castrato Adam Schiff And Democrats In New Artwork The actor gives Dems an assk...</td>\n",
       "    </tr>\n",
       "    <tr>\n",
       "      <th>4</th>\n",
       "      <td>ENTERTAINMENT</td>\n",
       "      <td>Julianna Margulies Uses Donald Trump Poop Bags To Pick Up After Her Dog The \"Dietland\" actress s...</td>\n",
       "      <td>Julianna Margulies Uses Donald Trump Poop Bags To Pick Up After Her Dog The Dietland actress sai...</td>\n",
       "    </tr>\n",
       "  </tbody>\n",
       "</table>\n",
       "</div>"
      ],
      "text/plain": [
       "        category  \\\n",
       "0          CRIME   \n",
       "1  ENTERTAINMENT   \n",
       "2  ENTERTAINMENT   \n",
       "3  ENTERTAINMENT   \n",
       "4  ENTERTAINMENT   \n",
       "\n",
       "                                                                                                report  \\\n",
       "0  There Were 2 Mass Shootings In Texas Last Week, But Only 1 On TV She left her husband. He killed...   \n",
       "1  Will Smith Joins Diplo And Nicky Jam For The 2018 World Cup's Official Song Of course it has a s...   \n",
       "2  Hugh Grant Marries For The First Time At Age 57 The actor and his longtime girlfriend Anna Ebers...   \n",
       "3  Jim Carrey Blasts 'Castrato' Adam Schiff And Democrats In New Artwork The actor gives Dems an as...   \n",
       "4  Julianna Margulies Uses Donald Trump Poop Bags To Pick Up After Her Dog The \"Dietland\" actress s...   \n",
       "\n",
       "                                                                                        report_no_punc  \n",
       "0  There Were 2 Mass Shootings In Texas Last Week But Only 1 On TV She left her husband He killed t...  \n",
       "1   Will Smith Joins Diplo And Nicky Jam For The 2018 World Cups Official Song Of course it has a song  \n",
       "2  Hugh Grant Marries For The First Time At Age 57 The actor and his longtime girlfriend Anna Ebers...  \n",
       "3  Jim Carrey Blasts Castrato Adam Schiff And Democrats In New Artwork The actor gives Dems an assk...  \n",
       "4  Julianna Margulies Uses Donald Trump Poop Bags To Pick Up After Her Dog The Dietland actress sai...  "
      ]
     },
     "execution_count": 14,
     "metadata": {},
     "output_type": "execute_result"
    }
   ],
   "source": [
    "data.head()"
   ]
  },
  {
   "cell_type": "markdown",
   "metadata": {},
   "source": [
    "# Tokenization"
   ]
  },
  {
   "cell_type": "code",
   "execution_count": 15,
   "metadata": {},
   "outputs": [],
   "source": [
    "import re"
   ]
  },
  {
   "cell_type": "code",
   "execution_count": 16,
   "metadata": {},
   "outputs": [],
   "source": [
    "def tokenz(text):\n",
    "    token = re.split('\\W+', text)\n",
    "    return token"
   ]
  },
  {
   "cell_type": "code",
   "execution_count": 17,
   "metadata": {},
   "outputs": [],
   "source": [
    "data['report_tokenize'] = data['report_no_punc'].apply(lambda x: tokenz(x.lower()))"
   ]
  },
  {
   "cell_type": "code",
   "execution_count": 18,
   "metadata": {},
   "outputs": [
    {
     "data": {
      "text/html": [
       "<div>\n",
       "<style scoped>\n",
       "    .dataframe tbody tr th:only-of-type {\n",
       "        vertical-align: middle;\n",
       "    }\n",
       "\n",
       "    .dataframe tbody tr th {\n",
       "        vertical-align: top;\n",
       "    }\n",
       "\n",
       "    .dataframe thead th {\n",
       "        text-align: right;\n",
       "    }\n",
       "</style>\n",
       "<table border=\"1\" class=\"dataframe\">\n",
       "  <thead>\n",
       "    <tr style=\"text-align: right;\">\n",
       "      <th></th>\n",
       "      <th>category</th>\n",
       "      <th>report</th>\n",
       "      <th>report_no_punc</th>\n",
       "      <th>report_tokenize</th>\n",
       "    </tr>\n",
       "  </thead>\n",
       "  <tbody>\n",
       "    <tr>\n",
       "      <th>0</th>\n",
       "      <td>CRIME</td>\n",
       "      <td>There Were 2 Mass Shootings In Texas Last Week, But Only 1 On TV She left her husband. He killed...</td>\n",
       "      <td>There Were 2 Mass Shootings In Texas Last Week But Only 1 On TV She left her husband He killed t...</td>\n",
       "      <td>[there, were, 2, mass, shootings, in, texas, last, week, but, only, 1, on, tv, she, left, her, h...</td>\n",
       "    </tr>\n",
       "    <tr>\n",
       "      <th>1</th>\n",
       "      <td>ENTERTAINMENT</td>\n",
       "      <td>Will Smith Joins Diplo And Nicky Jam For The 2018 World Cup's Official Song Of course it has a s...</td>\n",
       "      <td>Will Smith Joins Diplo And Nicky Jam For The 2018 World Cups Official Song Of course it has a song</td>\n",
       "      <td>[will, smith, joins, diplo, and, nicky, jam, for, the, 2018, world, cups, official, song, of, co...</td>\n",
       "    </tr>\n",
       "    <tr>\n",
       "      <th>2</th>\n",
       "      <td>ENTERTAINMENT</td>\n",
       "      <td>Hugh Grant Marries For The First Time At Age 57 The actor and his longtime girlfriend Anna Ebers...</td>\n",
       "      <td>Hugh Grant Marries For The First Time At Age 57 The actor and his longtime girlfriend Anna Ebers...</td>\n",
       "      <td>[hugh, grant, marries, for, the, first, time, at, age, 57, the, actor, and, his, longtime, girlf...</td>\n",
       "    </tr>\n",
       "    <tr>\n",
       "      <th>3</th>\n",
       "      <td>ENTERTAINMENT</td>\n",
       "      <td>Jim Carrey Blasts 'Castrato' Adam Schiff And Democrats In New Artwork The actor gives Dems an as...</td>\n",
       "      <td>Jim Carrey Blasts Castrato Adam Schiff And Democrats In New Artwork The actor gives Dems an assk...</td>\n",
       "      <td>[jim, carrey, blasts, castrato, adam, schiff, and, democrats, in, new, artwork, the, actor, give...</td>\n",
       "    </tr>\n",
       "    <tr>\n",
       "      <th>4</th>\n",
       "      <td>ENTERTAINMENT</td>\n",
       "      <td>Julianna Margulies Uses Donald Trump Poop Bags To Pick Up After Her Dog The \"Dietland\" actress s...</td>\n",
       "      <td>Julianna Margulies Uses Donald Trump Poop Bags To Pick Up After Her Dog The Dietland actress sai...</td>\n",
       "      <td>[julianna, margulies, uses, donald, trump, poop, bags, to, pick, up, after, her, dog, the, dietl...</td>\n",
       "    </tr>\n",
       "  </tbody>\n",
       "</table>\n",
       "</div>"
      ],
      "text/plain": [
       "        category  \\\n",
       "0          CRIME   \n",
       "1  ENTERTAINMENT   \n",
       "2  ENTERTAINMENT   \n",
       "3  ENTERTAINMENT   \n",
       "4  ENTERTAINMENT   \n",
       "\n",
       "                                                                                                report  \\\n",
       "0  There Were 2 Mass Shootings In Texas Last Week, But Only 1 On TV She left her husband. He killed...   \n",
       "1  Will Smith Joins Diplo And Nicky Jam For The 2018 World Cup's Official Song Of course it has a s...   \n",
       "2  Hugh Grant Marries For The First Time At Age 57 The actor and his longtime girlfriend Anna Ebers...   \n",
       "3  Jim Carrey Blasts 'Castrato' Adam Schiff And Democrats In New Artwork The actor gives Dems an as...   \n",
       "4  Julianna Margulies Uses Donald Trump Poop Bags To Pick Up After Her Dog The \"Dietland\" actress s...   \n",
       "\n",
       "                                                                                        report_no_punc  \\\n",
       "0  There Were 2 Mass Shootings In Texas Last Week But Only 1 On TV She left her husband He killed t...   \n",
       "1   Will Smith Joins Diplo And Nicky Jam For The 2018 World Cups Official Song Of course it has a song   \n",
       "2  Hugh Grant Marries For The First Time At Age 57 The actor and his longtime girlfriend Anna Ebers...   \n",
       "3  Jim Carrey Blasts Castrato Adam Schiff And Democrats In New Artwork The actor gives Dems an assk...   \n",
       "4  Julianna Margulies Uses Donald Trump Poop Bags To Pick Up After Her Dog The Dietland actress sai...   \n",
       "\n",
       "                                                                                       report_tokenize  \n",
       "0  [there, were, 2, mass, shootings, in, texas, last, week, but, only, 1, on, tv, she, left, her, h...  \n",
       "1  [will, smith, joins, diplo, and, nicky, jam, for, the, 2018, world, cups, official, song, of, co...  \n",
       "2  [hugh, grant, marries, for, the, first, time, at, age, 57, the, actor, and, his, longtime, girlf...  \n",
       "3  [jim, carrey, blasts, castrato, adam, schiff, and, democrats, in, new, artwork, the, actor, give...  \n",
       "4  [julianna, margulies, uses, donald, trump, poop, bags, to, pick, up, after, her, dog, the, dietl...  "
      ]
     },
     "execution_count": 18,
     "metadata": {},
     "output_type": "execute_result"
    }
   ],
   "source": [
    "data.head()"
   ]
  },
  {
   "cell_type": "markdown",
   "metadata": {},
   "source": [
    "# Remove Stopwords"
   ]
  },
  {
   "cell_type": "code",
   "execution_count": 19,
   "metadata": {},
   "outputs": [],
   "source": [
    "import nltk"
   ]
  },
  {
   "cell_type": "code",
   "execution_count": 20,
   "metadata": {},
   "outputs": [],
   "source": [
    "stopword = nltk.corpus.stopwords.words('english')"
   ]
  },
  {
   "cell_type": "code",
   "execution_count": 21,
   "metadata": {},
   "outputs": [],
   "source": [
    "def rem_stp_wrds(tokenz_text):\n",
    "    text = [word for word in tokenz_text if word not in stopword]\n",
    "    return text"
   ]
  },
  {
   "cell_type": "code",
   "execution_count": 22,
   "metadata": {},
   "outputs": [],
   "source": [
    "data['report_no_stp_word'] = data['report_tokenize'].apply(lambda x: rem_stp_wrds(x))"
   ]
  },
  {
   "cell_type": "code",
   "execution_count": 23,
   "metadata": {},
   "outputs": [
    {
     "data": {
      "text/html": [
       "<div>\n",
       "<style scoped>\n",
       "    .dataframe tbody tr th:only-of-type {\n",
       "        vertical-align: middle;\n",
       "    }\n",
       "\n",
       "    .dataframe tbody tr th {\n",
       "        vertical-align: top;\n",
       "    }\n",
       "\n",
       "    .dataframe thead th {\n",
       "        text-align: right;\n",
       "    }\n",
       "</style>\n",
       "<table border=\"1\" class=\"dataframe\">\n",
       "  <thead>\n",
       "    <tr style=\"text-align: right;\">\n",
       "      <th></th>\n",
       "      <th>category</th>\n",
       "      <th>report</th>\n",
       "      <th>report_no_punc</th>\n",
       "      <th>report_tokenize</th>\n",
       "      <th>report_no_stp_word</th>\n",
       "    </tr>\n",
       "  </thead>\n",
       "  <tbody>\n",
       "    <tr>\n",
       "      <th>0</th>\n",
       "      <td>CRIME</td>\n",
       "      <td>There Were 2 Mass Shootings In Texas Last Week, But Only 1 On TV She left her husband. He killed...</td>\n",
       "      <td>There Were 2 Mass Shootings In Texas Last Week But Only 1 On TV She left her husband He killed t...</td>\n",
       "      <td>[there, were, 2, mass, shootings, in, texas, last, week, but, only, 1, on, tv, she, left, her, h...</td>\n",
       "      <td>[2, mass, shootings, texas, last, week, 1, tv, left, husband, killed, children, another, day, am...</td>\n",
       "    </tr>\n",
       "    <tr>\n",
       "      <th>1</th>\n",
       "      <td>ENTERTAINMENT</td>\n",
       "      <td>Will Smith Joins Diplo And Nicky Jam For The 2018 World Cup's Official Song Of course it has a s...</td>\n",
       "      <td>Will Smith Joins Diplo And Nicky Jam For The 2018 World Cups Official Song Of course it has a song</td>\n",
       "      <td>[will, smith, joins, diplo, and, nicky, jam, for, the, 2018, world, cups, official, song, of, co...</td>\n",
       "      <td>[smith, joins, diplo, nicky, jam, 2018, world, cups, official, song, course, song]</td>\n",
       "    </tr>\n",
       "    <tr>\n",
       "      <th>2</th>\n",
       "      <td>ENTERTAINMENT</td>\n",
       "      <td>Hugh Grant Marries For The First Time At Age 57 The actor and his longtime girlfriend Anna Ebers...</td>\n",
       "      <td>Hugh Grant Marries For The First Time At Age 57 The actor and his longtime girlfriend Anna Ebers...</td>\n",
       "      <td>[hugh, grant, marries, for, the, first, time, at, age, 57, the, actor, and, his, longtime, girlf...</td>\n",
       "      <td>[hugh, grant, marries, first, time, age, 57, actor, longtime, girlfriend, anna, eberstein, tied,...</td>\n",
       "    </tr>\n",
       "    <tr>\n",
       "      <th>3</th>\n",
       "      <td>ENTERTAINMENT</td>\n",
       "      <td>Jim Carrey Blasts 'Castrato' Adam Schiff And Democrats In New Artwork The actor gives Dems an as...</td>\n",
       "      <td>Jim Carrey Blasts Castrato Adam Schiff And Democrats In New Artwork The actor gives Dems an assk...</td>\n",
       "      <td>[jim, carrey, blasts, castrato, adam, schiff, and, democrats, in, new, artwork, the, actor, give...</td>\n",
       "      <td>[jim, carrey, blasts, castrato, adam, schiff, democrats, new, artwork, actor, gives, dems, asski...</td>\n",
       "    </tr>\n",
       "    <tr>\n",
       "      <th>4</th>\n",
       "      <td>ENTERTAINMENT</td>\n",
       "      <td>Julianna Margulies Uses Donald Trump Poop Bags To Pick Up After Her Dog The \"Dietland\" actress s...</td>\n",
       "      <td>Julianna Margulies Uses Donald Trump Poop Bags To Pick Up After Her Dog The Dietland actress sai...</td>\n",
       "      <td>[julianna, margulies, uses, donald, trump, poop, bags, to, pick, up, after, her, dog, the, dietl...</td>\n",
       "      <td>[julianna, margulies, uses, donald, trump, poop, bags, pick, dog, dietland, actress, said, using...</td>\n",
       "    </tr>\n",
       "  </tbody>\n",
       "</table>\n",
       "</div>"
      ],
      "text/plain": [
       "        category  \\\n",
       "0          CRIME   \n",
       "1  ENTERTAINMENT   \n",
       "2  ENTERTAINMENT   \n",
       "3  ENTERTAINMENT   \n",
       "4  ENTERTAINMENT   \n",
       "\n",
       "                                                                                                report  \\\n",
       "0  There Were 2 Mass Shootings In Texas Last Week, But Only 1 On TV She left her husband. He killed...   \n",
       "1  Will Smith Joins Diplo And Nicky Jam For The 2018 World Cup's Official Song Of course it has a s...   \n",
       "2  Hugh Grant Marries For The First Time At Age 57 The actor and his longtime girlfriend Anna Ebers...   \n",
       "3  Jim Carrey Blasts 'Castrato' Adam Schiff And Democrats In New Artwork The actor gives Dems an as...   \n",
       "4  Julianna Margulies Uses Donald Trump Poop Bags To Pick Up After Her Dog The \"Dietland\" actress s...   \n",
       "\n",
       "                                                                                        report_no_punc  \\\n",
       "0  There Were 2 Mass Shootings In Texas Last Week But Only 1 On TV She left her husband He killed t...   \n",
       "1   Will Smith Joins Diplo And Nicky Jam For The 2018 World Cups Official Song Of course it has a song   \n",
       "2  Hugh Grant Marries For The First Time At Age 57 The actor and his longtime girlfriend Anna Ebers...   \n",
       "3  Jim Carrey Blasts Castrato Adam Schiff And Democrats In New Artwork The actor gives Dems an assk...   \n",
       "4  Julianna Margulies Uses Donald Trump Poop Bags To Pick Up After Her Dog The Dietland actress sai...   \n",
       "\n",
       "                                                                                       report_tokenize  \\\n",
       "0  [there, were, 2, mass, shootings, in, texas, last, week, but, only, 1, on, tv, she, left, her, h...   \n",
       "1  [will, smith, joins, diplo, and, nicky, jam, for, the, 2018, world, cups, official, song, of, co...   \n",
       "2  [hugh, grant, marries, for, the, first, time, at, age, 57, the, actor, and, his, longtime, girlf...   \n",
       "3  [jim, carrey, blasts, castrato, adam, schiff, and, democrats, in, new, artwork, the, actor, give...   \n",
       "4  [julianna, margulies, uses, donald, trump, poop, bags, to, pick, up, after, her, dog, the, dietl...   \n",
       "\n",
       "                                                                                    report_no_stp_word  \n",
       "0  [2, mass, shootings, texas, last, week, 1, tv, left, husband, killed, children, another, day, am...  \n",
       "1                   [smith, joins, diplo, nicky, jam, 2018, world, cups, official, song, course, song]  \n",
       "2  [hugh, grant, marries, first, time, age, 57, actor, longtime, girlfriend, anna, eberstein, tied,...  \n",
       "3  [jim, carrey, blasts, castrato, adam, schiff, democrats, new, artwork, actor, gives, dems, asski...  \n",
       "4  [julianna, margulies, uses, donald, trump, poop, bags, pick, dog, dietland, actress, said, using...  "
      ]
     },
     "execution_count": 23,
     "metadata": {},
     "output_type": "execute_result"
    }
   ],
   "source": [
    "data.head()"
   ]
  },
  {
   "cell_type": "markdown",
   "metadata": {},
   "source": [
    "# Data Cleaning "
   ]
  },
  {
   "cell_type": "markdown",
   "metadata": {},
   "source": [
    "## 1) Using Stemming"
   ]
  },
  {
   "cell_type": "code",
   "execution_count": 24,
   "metadata": {},
   "outputs": [],
   "source": [
    "p_stem = nltk.PorterStemmer()"
   ]
  },
  {
   "cell_type": "code",
   "execution_count": 25,
   "metadata": {},
   "outputs": [],
   "source": [
    "def stem_text(tokenz_text):\n",
    "    text = [p_stem.stem(text) for text in tokenz_text]\n",
    "    return text"
   ]
  },
  {
   "cell_type": "code",
   "execution_count": 26,
   "metadata": {},
   "outputs": [],
   "source": [
    "data['report_stemmed'] = data['report_no_stp_word'].apply(lambda x: stem_text(x))"
   ]
  },
  {
   "cell_type": "code",
   "execution_count": 27,
   "metadata": {},
   "outputs": [
    {
     "data": {
      "text/html": [
       "<div>\n",
       "<style scoped>\n",
       "    .dataframe tbody tr th:only-of-type {\n",
       "        vertical-align: middle;\n",
       "    }\n",
       "\n",
       "    .dataframe tbody tr th {\n",
       "        vertical-align: top;\n",
       "    }\n",
       "\n",
       "    .dataframe thead th {\n",
       "        text-align: right;\n",
       "    }\n",
       "</style>\n",
       "<table border=\"1\" class=\"dataframe\">\n",
       "  <thead>\n",
       "    <tr style=\"text-align: right;\">\n",
       "      <th></th>\n",
       "      <th>category</th>\n",
       "      <th>report</th>\n",
       "      <th>report_no_punc</th>\n",
       "      <th>report_tokenize</th>\n",
       "      <th>report_no_stp_word</th>\n",
       "      <th>report_stemmed</th>\n",
       "    </tr>\n",
       "  </thead>\n",
       "  <tbody>\n",
       "    <tr>\n",
       "      <th>0</th>\n",
       "      <td>CRIME</td>\n",
       "      <td>There Were 2 Mass Shootings In Texas Last Week, But Only 1 On TV She left her husband. He killed...</td>\n",
       "      <td>There Were 2 Mass Shootings In Texas Last Week But Only 1 On TV She left her husband He killed t...</td>\n",
       "      <td>[there, were, 2, mass, shootings, in, texas, last, week, but, only, 1, on, tv, she, left, her, h...</td>\n",
       "      <td>[2, mass, shootings, texas, last, week, 1, tv, left, husband, killed, children, another, day, am...</td>\n",
       "      <td>[2, mass, shoot, texa, last, week, 1, tv, left, husband, kill, children, anoth, day, america]</td>\n",
       "    </tr>\n",
       "    <tr>\n",
       "      <th>1</th>\n",
       "      <td>ENTERTAINMENT</td>\n",
       "      <td>Will Smith Joins Diplo And Nicky Jam For The 2018 World Cup's Official Song Of course it has a s...</td>\n",
       "      <td>Will Smith Joins Diplo And Nicky Jam For The 2018 World Cups Official Song Of course it has a song</td>\n",
       "      <td>[will, smith, joins, diplo, and, nicky, jam, for, the, 2018, world, cups, official, song, of, co...</td>\n",
       "      <td>[smith, joins, diplo, nicky, jam, 2018, world, cups, official, song, course, song]</td>\n",
       "      <td>[smith, join, diplo, nicki, jam, 2018, world, cup, offici, song, cours, song]</td>\n",
       "    </tr>\n",
       "    <tr>\n",
       "      <th>2</th>\n",
       "      <td>ENTERTAINMENT</td>\n",
       "      <td>Hugh Grant Marries For The First Time At Age 57 The actor and his longtime girlfriend Anna Ebers...</td>\n",
       "      <td>Hugh Grant Marries For The First Time At Age 57 The actor and his longtime girlfriend Anna Ebers...</td>\n",
       "      <td>[hugh, grant, marries, for, the, first, time, at, age, 57, the, actor, and, his, longtime, girlf...</td>\n",
       "      <td>[hugh, grant, marries, first, time, age, 57, actor, longtime, girlfriend, anna, eberstein, tied,...</td>\n",
       "      <td>[hugh, grant, marri, first, time, age, 57, actor, longtim, girlfriend, anna, eberstein, tie, kno...</td>\n",
       "    </tr>\n",
       "    <tr>\n",
       "      <th>3</th>\n",
       "      <td>ENTERTAINMENT</td>\n",
       "      <td>Jim Carrey Blasts 'Castrato' Adam Schiff And Democrats In New Artwork The actor gives Dems an as...</td>\n",
       "      <td>Jim Carrey Blasts Castrato Adam Schiff And Democrats In New Artwork The actor gives Dems an assk...</td>\n",
       "      <td>[jim, carrey, blasts, castrato, adam, schiff, and, democrats, in, new, artwork, the, actor, give...</td>\n",
       "      <td>[jim, carrey, blasts, castrato, adam, schiff, democrats, new, artwork, actor, gives, dems, asski...</td>\n",
       "      <td>[jim, carrey, blast, castrato, adam, schiff, democrat, new, artwork, actor, give, dem, asskick, ...</td>\n",
       "    </tr>\n",
       "    <tr>\n",
       "      <th>4</th>\n",
       "      <td>ENTERTAINMENT</td>\n",
       "      <td>Julianna Margulies Uses Donald Trump Poop Bags To Pick Up After Her Dog The \"Dietland\" actress s...</td>\n",
       "      <td>Julianna Margulies Uses Donald Trump Poop Bags To Pick Up After Her Dog The Dietland actress sai...</td>\n",
       "      <td>[julianna, margulies, uses, donald, trump, poop, bags, to, pick, up, after, her, dog, the, dietl...</td>\n",
       "      <td>[julianna, margulies, uses, donald, trump, poop, bags, pick, dog, dietland, actress, said, using...</td>\n",
       "      <td>[julianna, marguli, use, donald, trump, poop, bag, pick, dog, dietland, actress, said, use, bag,...</td>\n",
       "    </tr>\n",
       "  </tbody>\n",
       "</table>\n",
       "</div>"
      ],
      "text/plain": [
       "        category  \\\n",
       "0          CRIME   \n",
       "1  ENTERTAINMENT   \n",
       "2  ENTERTAINMENT   \n",
       "3  ENTERTAINMENT   \n",
       "4  ENTERTAINMENT   \n",
       "\n",
       "                                                                                                report  \\\n",
       "0  There Were 2 Mass Shootings In Texas Last Week, But Only 1 On TV She left her husband. He killed...   \n",
       "1  Will Smith Joins Diplo And Nicky Jam For The 2018 World Cup's Official Song Of course it has a s...   \n",
       "2  Hugh Grant Marries For The First Time At Age 57 The actor and his longtime girlfriend Anna Ebers...   \n",
       "3  Jim Carrey Blasts 'Castrato' Adam Schiff And Democrats In New Artwork The actor gives Dems an as...   \n",
       "4  Julianna Margulies Uses Donald Trump Poop Bags To Pick Up After Her Dog The \"Dietland\" actress s...   \n",
       "\n",
       "                                                                                        report_no_punc  \\\n",
       "0  There Were 2 Mass Shootings In Texas Last Week But Only 1 On TV She left her husband He killed t...   \n",
       "1   Will Smith Joins Diplo And Nicky Jam For The 2018 World Cups Official Song Of course it has a song   \n",
       "2  Hugh Grant Marries For The First Time At Age 57 The actor and his longtime girlfriend Anna Ebers...   \n",
       "3  Jim Carrey Blasts Castrato Adam Schiff And Democrats In New Artwork The actor gives Dems an assk...   \n",
       "4  Julianna Margulies Uses Donald Trump Poop Bags To Pick Up After Her Dog The Dietland actress sai...   \n",
       "\n",
       "                                                                                       report_tokenize  \\\n",
       "0  [there, were, 2, mass, shootings, in, texas, last, week, but, only, 1, on, tv, she, left, her, h...   \n",
       "1  [will, smith, joins, diplo, and, nicky, jam, for, the, 2018, world, cups, official, song, of, co...   \n",
       "2  [hugh, grant, marries, for, the, first, time, at, age, 57, the, actor, and, his, longtime, girlf...   \n",
       "3  [jim, carrey, blasts, castrato, adam, schiff, and, democrats, in, new, artwork, the, actor, give...   \n",
       "4  [julianna, margulies, uses, donald, trump, poop, bags, to, pick, up, after, her, dog, the, dietl...   \n",
       "\n",
       "                                                                                    report_no_stp_word  \\\n",
       "0  [2, mass, shootings, texas, last, week, 1, tv, left, husband, killed, children, another, day, am...   \n",
       "1                   [smith, joins, diplo, nicky, jam, 2018, world, cups, official, song, course, song]   \n",
       "2  [hugh, grant, marries, first, time, age, 57, actor, longtime, girlfriend, anna, eberstein, tied,...   \n",
       "3  [jim, carrey, blasts, castrato, adam, schiff, democrats, new, artwork, actor, gives, dems, asski...   \n",
       "4  [julianna, margulies, uses, donald, trump, poop, bags, pick, dog, dietland, actress, said, using...   \n",
       "\n",
       "                                                                                        report_stemmed  \n",
       "0        [2, mass, shoot, texa, last, week, 1, tv, left, husband, kill, children, anoth, day, america]  \n",
       "1                        [smith, join, diplo, nicki, jam, 2018, world, cup, offici, song, cours, song]  \n",
       "2  [hugh, grant, marri, first, time, age, 57, actor, longtim, girlfriend, anna, eberstein, tie, kno...  \n",
       "3  [jim, carrey, blast, castrato, adam, schiff, democrat, new, artwork, actor, give, dem, asskick, ...  \n",
       "4  [julianna, marguli, use, donald, trump, poop, bag, pick, dog, dietland, actress, said, use, bag,...  "
      ]
     },
     "execution_count": 27,
     "metadata": {},
     "output_type": "execute_result"
    }
   ],
   "source": [
    "data.head()"
   ]
  },
  {
   "cell_type": "markdown",
   "metadata": {},
   "source": [
    "## 2) Using Lemmatizer"
   ]
  },
  {
   "cell_type": "code",
   "execution_count": 28,
   "metadata": {},
   "outputs": [],
   "source": [
    "lem = nltk.WordNetLemmatizer()"
   ]
  },
  {
   "cell_type": "code",
   "execution_count": 29,
   "metadata": {},
   "outputs": [],
   "source": [
    "def lem_text(tokenz_text):\n",
    "    text = [lem.lemmatize(text) for text in tokenz_text]\n",
    "    return text"
   ]
  },
  {
   "cell_type": "code",
   "execution_count": 30,
   "metadata": {},
   "outputs": [],
   "source": [
    "data['report_lemmed'] = data['report_no_stp_word'].apply(lambda x: lem_text(x))"
   ]
  },
  {
   "cell_type": "code",
   "execution_count": 31,
   "metadata": {},
   "outputs": [
    {
     "data": {
      "text/html": [
       "<div>\n",
       "<style scoped>\n",
       "    .dataframe tbody tr th:only-of-type {\n",
       "        vertical-align: middle;\n",
       "    }\n",
       "\n",
       "    .dataframe tbody tr th {\n",
       "        vertical-align: top;\n",
       "    }\n",
       "\n",
       "    .dataframe thead th {\n",
       "        text-align: right;\n",
       "    }\n",
       "</style>\n",
       "<table border=\"1\" class=\"dataframe\">\n",
       "  <thead>\n",
       "    <tr style=\"text-align: right;\">\n",
       "      <th></th>\n",
       "      <th>category</th>\n",
       "      <th>report</th>\n",
       "      <th>report_no_punc</th>\n",
       "      <th>report_tokenize</th>\n",
       "      <th>report_no_stp_word</th>\n",
       "      <th>report_stemmed</th>\n",
       "      <th>report_lemmed</th>\n",
       "    </tr>\n",
       "  </thead>\n",
       "  <tbody>\n",
       "    <tr>\n",
       "      <th>0</th>\n",
       "      <td>CRIME</td>\n",
       "      <td>There Were 2 Mass Shootings In Texas Last Week, But Only 1 On TV She left her husband. He killed...</td>\n",
       "      <td>There Were 2 Mass Shootings In Texas Last Week But Only 1 On TV She left her husband He killed t...</td>\n",
       "      <td>[there, were, 2, mass, shootings, in, texas, last, week, but, only, 1, on, tv, she, left, her, h...</td>\n",
       "      <td>[2, mass, shootings, texas, last, week, 1, tv, left, husband, killed, children, another, day, am...</td>\n",
       "      <td>[2, mass, shoot, texa, last, week, 1, tv, left, husband, kill, children, anoth, day, america]</td>\n",
       "      <td>[2, mass, shooting, texas, last, week, 1, tv, left, husband, killed, child, another, day, america]</td>\n",
       "    </tr>\n",
       "    <tr>\n",
       "      <th>1</th>\n",
       "      <td>ENTERTAINMENT</td>\n",
       "      <td>Will Smith Joins Diplo And Nicky Jam For The 2018 World Cup's Official Song Of course it has a s...</td>\n",
       "      <td>Will Smith Joins Diplo And Nicky Jam For The 2018 World Cups Official Song Of course it has a song</td>\n",
       "      <td>[will, smith, joins, diplo, and, nicky, jam, for, the, 2018, world, cups, official, song, of, co...</td>\n",
       "      <td>[smith, joins, diplo, nicky, jam, 2018, world, cups, official, song, course, song]</td>\n",
       "      <td>[smith, join, diplo, nicki, jam, 2018, world, cup, offici, song, cours, song]</td>\n",
       "      <td>[smith, join, diplo, nicky, jam, 2018, world, cup, official, song, course, song]</td>\n",
       "    </tr>\n",
       "  </tbody>\n",
       "</table>\n",
       "</div>"
      ],
      "text/plain": [
       "        category  \\\n",
       "0          CRIME   \n",
       "1  ENTERTAINMENT   \n",
       "\n",
       "                                                                                                report  \\\n",
       "0  There Were 2 Mass Shootings In Texas Last Week, But Only 1 On TV She left her husband. He killed...   \n",
       "1  Will Smith Joins Diplo And Nicky Jam For The 2018 World Cup's Official Song Of course it has a s...   \n",
       "\n",
       "                                                                                        report_no_punc  \\\n",
       "0  There Were 2 Mass Shootings In Texas Last Week But Only 1 On TV She left her husband He killed t...   \n",
       "1   Will Smith Joins Diplo And Nicky Jam For The 2018 World Cups Official Song Of course it has a song   \n",
       "\n",
       "                                                                                       report_tokenize  \\\n",
       "0  [there, were, 2, mass, shootings, in, texas, last, week, but, only, 1, on, tv, she, left, her, h...   \n",
       "1  [will, smith, joins, diplo, and, nicky, jam, for, the, 2018, world, cups, official, song, of, co...   \n",
       "\n",
       "                                                                                    report_no_stp_word  \\\n",
       "0  [2, mass, shootings, texas, last, week, 1, tv, left, husband, killed, children, another, day, am...   \n",
       "1                   [smith, joins, diplo, nicky, jam, 2018, world, cups, official, song, course, song]   \n",
       "\n",
       "                                                                                  report_stemmed  \\\n",
       "0  [2, mass, shoot, texa, last, week, 1, tv, left, husband, kill, children, anoth, day, america]   \n",
       "1                  [smith, join, diplo, nicki, jam, 2018, world, cup, offici, song, cours, song]   \n",
       "\n",
       "                                                                                        report_lemmed  \n",
       "0  [2, mass, shooting, texas, last, week, 1, tv, left, husband, killed, child, another, day, america]  \n",
       "1                    [smith, join, diplo, nicky, jam, 2018, world, cup, official, song, course, song]  "
      ]
     },
     "execution_count": 31,
     "metadata": {},
     "output_type": "execute_result"
    }
   ],
   "source": [
    "data.head(2)"
   ]
  },
  {
   "cell_type": "markdown",
   "metadata": {},
   "source": [
    "# Vectorizing Raw Data"
   ]
  },
  {
   "cell_type": "code",
   "execution_count": 32,
   "metadata": {},
   "outputs": [],
   "source": [
    "from sklearn.feature_extraction.text import TfidfVectorizer"
   ]
  },
  {
   "cell_type": "code",
   "execution_count": 33,
   "metadata": {},
   "outputs": [],
   "source": [
    "tfidf_vect = TfidfVectorizer(sublinear_tf=True, min_df=5, norm='l2', encoding='latin-1',\n",
    "                             ngram_range=(1, 2), stop_words='english')"
   ]
  },
  {
   "cell_type": "code",
   "execution_count": 34,
   "metadata": {},
   "outputs": [],
   "source": [
    "data['report_stemmed']=[\" \".join(word) for word in data['report_stemmed'].values]"
   ]
  },
  {
   "cell_type": "code",
   "execution_count": 35,
   "metadata": {},
   "outputs": [],
   "source": [
    "data['report_lemmed']=[\" \".join(word) for word in data['report_lemmed'].values]"
   ]
  },
  {
   "cell_type": "code",
   "execution_count": 36,
   "metadata": {},
   "outputs": [
    {
     "data": {
      "text/html": [
       "<div>\n",
       "<style scoped>\n",
       "    .dataframe tbody tr th:only-of-type {\n",
       "        vertical-align: middle;\n",
       "    }\n",
       "\n",
       "    .dataframe tbody tr th {\n",
       "        vertical-align: top;\n",
       "    }\n",
       "\n",
       "    .dataframe thead th {\n",
       "        text-align: right;\n",
       "    }\n",
       "</style>\n",
       "<table border=\"1\" class=\"dataframe\">\n",
       "  <thead>\n",
       "    <tr style=\"text-align: right;\">\n",
       "      <th></th>\n",
       "      <th>category</th>\n",
       "      <th>report</th>\n",
       "      <th>report_no_punc</th>\n",
       "      <th>report_tokenize</th>\n",
       "      <th>report_no_stp_word</th>\n",
       "      <th>report_stemmed</th>\n",
       "      <th>report_lemmed</th>\n",
       "    </tr>\n",
       "  </thead>\n",
       "  <tbody>\n",
       "    <tr>\n",
       "      <th>0</th>\n",
       "      <td>CRIME</td>\n",
       "      <td>There Were 2 Mass Shootings In Texas Last Week, But Only 1 On TV She left her husband. He killed...</td>\n",
       "      <td>There Were 2 Mass Shootings In Texas Last Week But Only 1 On TV She left her husband He killed t...</td>\n",
       "      <td>[there, were, 2, mass, shootings, in, texas, last, week, but, only, 1, on, tv, she, left, her, h...</td>\n",
       "      <td>[2, mass, shootings, texas, last, week, 1, tv, left, husband, killed, children, another, day, am...</td>\n",
       "      <td>2 mass shoot texa last week 1 tv left husband kill children anoth day america</td>\n",
       "      <td>2 mass shooting texas last week 1 tv left husband killed child another day america</td>\n",
       "    </tr>\n",
       "    <tr>\n",
       "      <th>1</th>\n",
       "      <td>ENTERTAINMENT</td>\n",
       "      <td>Will Smith Joins Diplo And Nicky Jam For The 2018 World Cup's Official Song Of course it has a s...</td>\n",
       "      <td>Will Smith Joins Diplo And Nicky Jam For The 2018 World Cups Official Song Of course it has a song</td>\n",
       "      <td>[will, smith, joins, diplo, and, nicky, jam, for, the, 2018, world, cups, official, song, of, co...</td>\n",
       "      <td>[smith, joins, diplo, nicky, jam, 2018, world, cups, official, song, course, song]</td>\n",
       "      <td>smith join diplo nicki jam 2018 world cup offici song cours song</td>\n",
       "      <td>smith join diplo nicky jam 2018 world cup official song course song</td>\n",
       "    </tr>\n",
       "  </tbody>\n",
       "</table>\n",
       "</div>"
      ],
      "text/plain": [
       "        category  \\\n",
       "0          CRIME   \n",
       "1  ENTERTAINMENT   \n",
       "\n",
       "                                                                                                report  \\\n",
       "0  There Were 2 Mass Shootings In Texas Last Week, But Only 1 On TV She left her husband. He killed...   \n",
       "1  Will Smith Joins Diplo And Nicky Jam For The 2018 World Cup's Official Song Of course it has a s...   \n",
       "\n",
       "                                                                                        report_no_punc  \\\n",
       "0  There Were 2 Mass Shootings In Texas Last Week But Only 1 On TV She left her husband He killed t...   \n",
       "1   Will Smith Joins Diplo And Nicky Jam For The 2018 World Cups Official Song Of course it has a song   \n",
       "\n",
       "                                                                                       report_tokenize  \\\n",
       "0  [there, were, 2, mass, shootings, in, texas, last, week, but, only, 1, on, tv, she, left, her, h...   \n",
       "1  [will, smith, joins, diplo, and, nicky, jam, for, the, 2018, world, cups, official, song, of, co...   \n",
       "\n",
       "                                                                                    report_no_stp_word  \\\n",
       "0  [2, mass, shootings, texas, last, week, 1, tv, left, husband, killed, children, another, day, am...   \n",
       "1                   [smith, joins, diplo, nicky, jam, 2018, world, cups, official, song, course, song]   \n",
       "\n",
       "                                                                  report_stemmed  \\\n",
       "0  2 mass shoot texa last week 1 tv left husband kill children anoth day america   \n",
       "1               smith join diplo nicki jam 2018 world cup offici song cours song   \n",
       "\n",
       "                                                                        report_lemmed  \n",
       "0  2 mass shooting texas last week 1 tv left husband killed child another day america  \n",
       "1                 smith join diplo nicky jam 2018 world cup official song course song  "
      ]
     },
     "execution_count": 36,
     "metadata": {},
     "output_type": "execute_result"
    }
   ],
   "source": [
    "data.head(2)"
   ]
  },
  {
   "cell_type": "code",
   "execution_count": 37,
   "metadata": {},
   "outputs": [],
   "source": [
    "data1 = data.loc[:,['report_stemmed']]"
   ]
  },
  {
   "cell_type": "code",
   "execution_count": 38,
   "metadata": {},
   "outputs": [],
   "source": [
    "data2 = data.loc[:,['report_lemmed']]"
   ]
  },
  {
   "cell_type": "code",
   "execution_count": 39,
   "metadata": {},
   "outputs": [],
   "source": [
    "data1_tfidf = tfidf_vect.fit_transform(data['report_stemmed'])"
   ]
  },
  {
   "cell_type": "code",
   "execution_count": 40,
   "metadata": {},
   "outputs": [],
   "source": [
    "data2_tfidf = tfidf_vect.fit_transform(data['report_lemmed'])"
   ]
  },
  {
   "cell_type": "code",
   "execution_count": 41,
   "metadata": {},
   "outputs": [
    {
     "data": {
      "text/plain": [
       "(124989, 50064)"
      ]
     },
     "execution_count": 41,
     "metadata": {},
     "output_type": "execute_result"
    }
   ],
   "source": [
    "data1_tfidf.shape"
   ]
  },
  {
   "cell_type": "code",
   "execution_count": 42,
   "metadata": {},
   "outputs": [
    {
     "data": {
      "text/plain": [
       "(124989, 49898)"
      ]
     },
     "execution_count": 42,
     "metadata": {},
     "output_type": "execute_result"
    }
   ],
   "source": [
    "data2_tfidf.shape"
   ]
  },
  {
   "cell_type": "markdown",
   "metadata": {},
   "source": [
    "# Train Test Dataset for Model"
   ]
  },
  {
   "cell_type": "code",
   "execution_count": 43,
   "metadata": {},
   "outputs": [],
   "source": [
    "from sklearn.model_selection import train_test_split"
   ]
  },
  {
   "cell_type": "code",
   "execution_count": 44,
   "metadata": {},
   "outputs": [],
   "source": [
    "# train test dataset of Stemming\n",
    "X_stem_train,X_stem_test,Y_stem_train,Y_stem_test = train_test_split(data1_tfidf, data['category'], test_size = 0.30)"
   ]
  },
  {
   "cell_type": "code",
   "execution_count": 45,
   "metadata": {},
   "outputs": [],
   "source": [
    "# train test dataset of Lemmatizer\n",
    "X_lem_train,X_lem_test,Y_lem_train,Y_lem_test = train_test_split(data2_tfidf, data['category'], test_size = 0.30)"
   ]
  },
  {
   "cell_type": "code",
   "execution_count": 46,
   "metadata": {},
   "outputs": [],
   "source": [
    "from sklearn.svm import LinearSVC\n",
    "from sklearn.naive_bayes import MultinomialNB\n",
    "from sklearn.ensemble import RandomForestClassifier\n",
    "from sklearn.metrics import accuracy_score ,confusion_matrix\n",
    "import warnings\n",
    "warnings.filterwarnings('ignore')"
   ]
  },
  {
   "cell_type": "markdown",
   "metadata": {},
   "source": [
    "## Model 1a --- LinearSVC using Stemming Dataset"
   ]
  },
  {
   "cell_type": "code",
   "execution_count": 47,
   "metadata": {},
   "outputs": [
    {
     "name": "stdout",
     "output_type": "stream",
     "text": [
      "62.24\n"
     ]
    }
   ],
   "source": [
    "model1_a = LinearSVC(random_state=42)\n",
    "model1_a.fit(X_stem_train,Y_stem_train)\n",
    "Y_stem_predict = model1_a.predict(X_stem_test)\n",
    "accuracy1_a = accuracy_score(Y_stem_test,Y_stem_predict)*100\n",
    "print(format(accuracy1_a, '.2f'))"
   ]
  },
  {
   "cell_type": "markdown",
   "metadata": {},
   "source": [
    "## # Model 1b --- LinearSVC using Lemmatizer Dataset"
   ]
  },
  {
   "cell_type": "code",
   "execution_count": 48,
   "metadata": {},
   "outputs": [
    {
     "name": "stdout",
     "output_type": "stream",
     "text": [
      "61.50\n"
     ]
    }
   ],
   "source": [
    "model1_b = LinearSVC(random_state=42)\n",
    "model1_b.fit(X_lem_train,Y_lem_train)\n",
    "Y_lem_predict = model1_b.predict(X_lem_test)\n",
    "accuracy1_b = accuracy_score(Y_lem_test,Y_lem_predict)*100\n",
    "print(format(accuracy1_b, '.2f'))"
   ]
  },
  {
   "cell_type": "markdown",
   "metadata": {},
   "source": [
    "## Model 2a --- MultinomialNB using Stemming Dataset"
   ]
  },
  {
   "cell_type": "code",
   "execution_count": 49,
   "metadata": {},
   "outputs": [
    {
     "name": "stdout",
     "output_type": "stream",
     "text": [
      "58.64\n"
     ]
    }
   ],
   "source": [
    "model2_a = MultinomialNB(random_state=42,alpha=0.1)\n",
    "model2_a.fit(X_stem_train,Y_stem_train)\n",
    "Y_stem_predict = model2_a.predict(X_stem_test)\n",
    "accuracy2_a = accuracy_score(Y_stem_test,Y_stem_predict)*100\n",
    "print(format(accuracy2_a, '.2f'))"
   ]
  },
  {
   "cell_type": "markdown",
   "metadata": {},
   "source": [
    "## Model 2b --- MultinomialNB using Lemmatizer Dataset"
   ]
  },
  {
   "cell_type": "code",
   "execution_count": 50,
   "metadata": {},
   "outputs": [
    {
     "name": "stdout",
     "output_type": "stream",
     "text": [
      "58.25\n"
     ]
    }
   ],
   "source": [
    "model2_b = MultinomialNB(random_state=42,alpha=0.1)\n",
    "model2_b.fit(X_lem_train,Y_lem_train)\n",
    "Y_lem_predict = model2_b.predict(X_lem_test)\n",
    "accuracy2_b = accuracy_score(Y_lem_test,Y_lem_predict)*100\n",
    "print(format(accuracy2_b, '.2f'))"
   ]
  },
  {
   "cell_type": "markdown",
   "metadata": {},
   "source": [
    "## Model 3a --- RandomForestClassifier using Stemming Dataset"
   ]
  },
  {
   "cell_type": "code",
   "execution_count": null,
   "metadata": {},
   "outputs": [],
   "source": [
    "model3_a = RandomForestClassifier(n_estimators=500, n_jobs=-1, oob_score=True,random_state=42)\n",
    "model3_a.fit(X_stem_train,Y_stem_train)\n",
    "Y_stem_predict = model3_a.predict(X_stem_test)\n",
    "accuracy3_a = accuracy_score(Y_stem_test,Y_stem_predict)*100\n",
    "print(format(accuracy3_a, '.2f'))"
   ]
  },
  {
   "cell_type": "markdown",
   "metadata": {},
   "source": [
    "## Model 3b --- RandomForestClassifier using Lemmatizer Dataset"
   ]
  },
  {
   "cell_type": "code",
   "execution_count": null,
   "metadata": {},
   "outputs": [],
   "source": [
    "model3_b = RandomForestClassifier(n_estimators=500, n_jobs=-1, oob_score=True,random_state=42)\n",
    "model3_b.fit(X_lem_train,Y_lem_train)\n",
    "Y_lem_predict = model3_b.predict(X_lem_test)\n",
    "accuracy3_b = accuracy_score(Y_lem_test,Y_lem_predict)*100\n",
    "print(format(accuracy3_b, '.2f'))"
   ]
  },
  {
   "cell_type": "code",
   "execution_count": null,
   "metadata": {},
   "outputs": [],
   "source": []
  }
 ],
 "metadata": {
  "kernelspec": {
   "display_name": "Python 3",
   "language": "python",
   "name": "python3"
  },
  "language_info": {
   "codemirror_mode": {
    "name": "ipython",
    "version": 3
   },
   "file_extension": ".py",
   "mimetype": "text/x-python",
   "name": "python",
   "nbconvert_exporter": "python",
   "pygments_lexer": "ipython3",
   "version": "3.6.5"
  }
 },
 "nbformat": 4,
 "nbformat_minor": 2
}
